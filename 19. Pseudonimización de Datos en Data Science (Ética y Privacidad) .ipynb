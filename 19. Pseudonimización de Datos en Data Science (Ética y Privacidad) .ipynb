{
 "cells": [
  {
   "cell_type": "markdown",
   "id": "deb92189",
   "metadata": {},
   "source": [
    "# Pseudonimización de Datos en Data Science (Ética y Privacidad) "
   ]
  },
  {
   "cell_type": "code",
   "execution_count": 7,
   "id": "a12ff1e9",
   "metadata": {},
   "outputs": [],
   "source": [
    "import pandas as pd\n",
    "import uuid #Sirve para crear identificadores únicos\n",
    "import hashlib"
   ]
  },
  {
   "cell_type": "markdown",
   "id": "43bfef97",
   "metadata": {},
   "source": [
    "## Uso la biblioteta uuid"
   ]
  },
  {
   "cell_type": "code",
   "execution_count": 2,
   "id": "ccaa1caa",
   "metadata": {},
   "outputs": [
    {
     "data": {
      "text/html": [
       "<div>\n",
       "<style scoped>\n",
       "    .dataframe tbody tr th:only-of-type {\n",
       "        vertical-align: middle;\n",
       "    }\n",
       "\n",
       "    .dataframe tbody tr th {\n",
       "        vertical-align: top;\n",
       "    }\n",
       "\n",
       "    .dataframe thead th {\n",
       "        text-align: right;\n",
       "    }\n",
       "</style>\n",
       "<table border=\"1\" class=\"dataframe\">\n",
       "  <thead>\n",
       "    <tr style=\"text-align: right;\">\n",
       "      <th></th>\n",
       "      <th>nombre</th>\n",
       "      <th>email</th>\n",
       "      <th>ubicacion</th>\n",
       "    </tr>\n",
       "  </thead>\n",
       "  <tbody>\n",
       "    <tr>\n",
       "      <th>0</th>\n",
       "      <td>Ana</td>\n",
       "      <td>ana@exp.com</td>\n",
       "      <td>Ciudad A</td>\n",
       "    </tr>\n",
       "    <tr>\n",
       "      <th>1</th>\n",
       "      <td>Juan</td>\n",
       "      <td>juan@exp.com</td>\n",
       "      <td>Ciudad B</td>\n",
       "    </tr>\n",
       "    <tr>\n",
       "      <th>2</th>\n",
       "      <td>Luis</td>\n",
       "      <td>luis@exp.com</td>\n",
       "      <td>Ciudad C</td>\n",
       "    </tr>\n",
       "  </tbody>\n",
       "</table>\n",
       "</div>"
      ],
      "text/plain": [
       "  nombre         email ubicacion\n",
       "0    Ana   ana@exp.com  Ciudad A\n",
       "1   Juan  juan@exp.com  Ciudad B\n",
       "2   Luis  luis@exp.com  Ciudad C"
      ]
     },
     "execution_count": 2,
     "metadata": {},
     "output_type": "execute_result"
    }
   ],
   "source": [
    "data = pd.DataFrame({\n",
    "    'nombre' : ['Ana', 'Juan', 'Luis'],\n",
    "    'email' : ['ana@exp.com', 'juan@exp.com', 'luis@exp.com'],\n",
    "    'ubicacion' : ['Ciudad A', 'Ciudad B', 'Ciudad C']\n",
    "})\n",
    "\n",
    "data"
   ]
  },
  {
   "cell_type": "code",
   "execution_count": 3,
   "id": "8556dcc8",
   "metadata": {},
   "outputs": [],
   "source": [
    "id_pseudo = [ ]"
   ]
  },
  {
   "cell_type": "code",
   "execution_count": 4,
   "id": "e14fc863",
   "metadata": {},
   "outputs": [],
   "source": [
    "for n in range(len(data)):\n",
    "    id_pseudo.append(str(uuid.uuid4()))"
   ]
  },
  {
   "cell_type": "code",
   "execution_count": 5,
   "id": "011d9772",
   "metadata": {},
   "outputs": [
    {
     "data": {
      "text/plain": [
       "['a39ab8e3-0e2b-4a0e-85bd-e72b6421ea20',\n",
       " '222e397d-3b25-4cfc-8bb2-4f38ed4224f0',\n",
       " '11c34361-2faa-4283-9baf-f390f39d9148']"
      ]
     },
     "execution_count": 5,
     "metadata": {},
     "output_type": "execute_result"
    }
   ],
   "source": [
    "id_pseudo"
   ]
  },
  {
   "cell_type": "code",
   "execution_count": 6,
   "id": "ec8c3eb4",
   "metadata": {},
   "outputs": [
    {
     "data": {
      "text/html": [
       "<div>\n",
       "<style scoped>\n",
       "    .dataframe tbody tr th:only-of-type {\n",
       "        vertical-align: middle;\n",
       "    }\n",
       "\n",
       "    .dataframe tbody tr th {\n",
       "        vertical-align: top;\n",
       "    }\n",
       "\n",
       "    .dataframe thead th {\n",
       "        text-align: right;\n",
       "    }\n",
       "</style>\n",
       "<table border=\"1\" class=\"dataframe\">\n",
       "  <thead>\n",
       "    <tr style=\"text-align: right;\">\n",
       "      <th></th>\n",
       "      <th>email</th>\n",
       "      <th>ubicacion</th>\n",
       "      <th>id_pseudo</th>\n",
       "    </tr>\n",
       "  </thead>\n",
       "  <tbody>\n",
       "    <tr>\n",
       "      <th>0</th>\n",
       "      <td>ana@exp.com</td>\n",
       "      <td>Ciudad A</td>\n",
       "      <td>a39ab8e3-0e2b-4a0e-85bd-e72b6421ea20</td>\n",
       "    </tr>\n",
       "    <tr>\n",
       "      <th>1</th>\n",
       "      <td>juan@exp.com</td>\n",
       "      <td>Ciudad B</td>\n",
       "      <td>222e397d-3b25-4cfc-8bb2-4f38ed4224f0</td>\n",
       "    </tr>\n",
       "    <tr>\n",
       "      <th>2</th>\n",
       "      <td>luis@exp.com</td>\n",
       "      <td>Ciudad C</td>\n",
       "      <td>11c34361-2faa-4283-9baf-f390f39d9148</td>\n",
       "    </tr>\n",
       "  </tbody>\n",
       "</table>\n",
       "</div>"
      ],
      "text/plain": [
       "          email ubicacion                             id_pseudo\n",
       "0   ana@exp.com  Ciudad A  a39ab8e3-0e2b-4a0e-85bd-e72b6421ea20\n",
       "1  juan@exp.com  Ciudad B  222e397d-3b25-4cfc-8bb2-4f38ed4224f0\n",
       "2  luis@exp.com  Ciudad C  11c34361-2faa-4283-9baf-f390f39d9148"
      ]
     },
     "execution_count": 6,
     "metadata": {},
     "output_type": "execute_result"
    }
   ],
   "source": [
    "#Reemplazo los valores de id_pseudo por la columna nombre \n",
    "data['id_pseudo'] = id_pseudo\n",
    "data.drop('nombre', axis=1, inplace=True)\n",
    "data"
   ]
  },
  {
   "cell_type": "markdown",
   "id": "c9ee1a64",
   "metadata": {},
   "source": [
    "## Uso la biblioteca hashlib"
   ]
  },
  {
   "cell_type": "code",
   "execution_count": 12,
   "id": "dced630c",
   "metadata": {},
   "outputs": [],
   "source": [
    "def hash_data(data):\n",
    "    return hashlib.sha256(data.encode()).hexdigest()"
   ]
  },
  {
   "cell_type": "code",
   "execution_count": 13,
   "id": "8a19095f",
   "metadata": {},
   "outputs": [],
   "source": [
    "hash_emails = [ ]"
   ]
  },
  {
   "cell_type": "code",
   "execution_count": 14,
   "id": "6f5fc220",
   "metadata": {},
   "outputs": [
    {
     "data": {
      "text/html": [
       "<div>\n",
       "<style scoped>\n",
       "    .dataframe tbody tr th:only-of-type {\n",
       "        vertical-align: middle;\n",
       "    }\n",
       "\n",
       "    .dataframe tbody tr th {\n",
       "        vertical-align: top;\n",
       "    }\n",
       "\n",
       "    .dataframe thead th {\n",
       "        text-align: right;\n",
       "    }\n",
       "</style>\n",
       "<table border=\"1\" class=\"dataframe\">\n",
       "  <thead>\n",
       "    <tr style=\"text-align: right;\">\n",
       "      <th></th>\n",
       "      <th>email</th>\n",
       "      <th>ubicacion</th>\n",
       "      <th>id_pseudo</th>\n",
       "    </tr>\n",
       "  </thead>\n",
       "  <tbody>\n",
       "    <tr>\n",
       "      <th>0</th>\n",
       "      <td>f3fa852de0a2b77afa2da81812f56885ee3c346c840e33...</td>\n",
       "      <td>Ciudad A</td>\n",
       "      <td>a39ab8e3-0e2b-4a0e-85bd-e72b6421ea20</td>\n",
       "    </tr>\n",
       "    <tr>\n",
       "      <th>1</th>\n",
       "      <td>fe9442eb214891bbf75950c1bf766b65ca1fb1b30f6444...</td>\n",
       "      <td>Ciudad B</td>\n",
       "      <td>222e397d-3b25-4cfc-8bb2-4f38ed4224f0</td>\n",
       "    </tr>\n",
       "    <tr>\n",
       "      <th>2</th>\n",
       "      <td>aa0176498e48b1f150304b2b83291f2342c3a912b05ba7...</td>\n",
       "      <td>Ciudad C</td>\n",
       "      <td>11c34361-2faa-4283-9baf-f390f39d9148</td>\n",
       "    </tr>\n",
       "  </tbody>\n",
       "</table>\n",
       "</div>"
      ],
      "text/plain": [
       "                                               email ubicacion  \\\n",
       "0  f3fa852de0a2b77afa2da81812f56885ee3c346c840e33...  Ciudad A   \n",
       "1  fe9442eb214891bbf75950c1bf766b65ca1fb1b30f6444...  Ciudad B   \n",
       "2  aa0176498e48b1f150304b2b83291f2342c3a912b05ba7...  Ciudad C   \n",
       "\n",
       "                              id_pseudo  \n",
       "0  a39ab8e3-0e2b-4a0e-85bd-e72b6421ea20  \n",
       "1  222e397d-3b25-4cfc-8bb2-4f38ed4224f0  \n",
       "2  11c34361-2faa-4283-9baf-f390f39d9148  "
      ]
     },
     "execution_count": 14,
     "metadata": {},
     "output_type": "execute_result"
    }
   ],
   "source": [
    "for email in data['email']:\n",
    "    h_email = hash_data(email)\n",
    "    hash_emails.append(h_email)\n",
    "data['email'] = hash_emails\n",
    "\n",
    "data"
   ]
  },
  {
   "cell_type": "markdown",
   "id": "6a75a5b6",
   "metadata": {},
   "source": [
    "## Tokenización "
   ]
  },
  {
   "cell_type": "code",
   "execution_count": 15,
   "id": "f5a9e190",
   "metadata": {},
   "outputs": [],
   "source": [
    "mis_tokens = { }"
   ]
  },
  {
   "cell_type": "code",
   "execution_count": 16,
   "id": "832623ab",
   "metadata": {},
   "outputs": [],
   "source": [
    "def tokenizar(dato):\n",
    "    token = str(uuid.uuid4())\n",
    "    mis_tokens[token] = dato\n",
    "    return token"
   ]
  },
  {
   "cell_type": "code",
   "execution_count": 17,
   "id": "a8697d03",
   "metadata": {},
   "outputs": [],
   "source": [
    "def recuperar_dato(token): \n",
    "    return mis_tokens.get(token, 'Token no válido')"
   ]
  },
  {
   "cell_type": "code",
   "execution_count": 19,
   "id": "350e843e",
   "metadata": {},
   "outputs": [],
   "source": [
    "dato_original = '123-456-789'\n",
    "token = tokenizar(dato_original)"
   ]
  },
  {
   "cell_type": "code",
   "execution_count": 20,
   "id": "d1f47f5d",
   "metadata": {},
   "outputs": [
    {
     "name": "stdout",
     "output_type": "stream",
     "text": [
      "Token generado: fb539ff1-aa20-4a9f-bd53-5be955c01463\n",
      "Dato recuperado: 123-456-789\n"
     ]
    }
   ],
   "source": [
    "print(f'Token generado: {token}')\n",
    "print(f'Dato recuperado: {recuperar_dato(token)}')"
   ]
  }
 ],
 "metadata": {
  "kernelspec": {
   "display_name": "Python 3 (ipykernel)",
   "language": "python",
   "name": "python3"
  },
  "language_info": {
   "codemirror_mode": {
    "name": "ipython",
    "version": 3
   },
   "file_extension": ".py",
   "mimetype": "text/x-python",
   "name": "python",
   "nbconvert_exporter": "python",
   "pygments_lexer": "ipython3",
   "version": "3.11.4"
  }
 },
 "nbformat": 4,
 "nbformat_minor": 5
}
