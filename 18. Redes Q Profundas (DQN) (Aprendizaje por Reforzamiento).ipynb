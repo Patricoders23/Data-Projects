{
 "cells": [
  {
   "cell_type": "markdown",
   "id": "aa901473",
   "metadata": {},
   "source": [
    "# Redes Q Profundas (DQN)\n",
    "\n",
    "- Entender el estado del entorno \n",
    "- Puntuar acciones posibles\n",
    "- Elegir la mejor movida \n",
    "- Aprender de las consequencias \n",
    "- Explorar nuevas estrategias \n",
    "\n",
    "Las DQNs utilizan redes neuronales profundas para predecir los valores Q, que son esenciales en Q-learning para estimar la calidad de las acciones en un entorno específico.\n",
    "\n"
   ]
  },
  {
   "cell_type": "code",
   "execution_count": 1,
   "id": "4242d1e0",
   "metadata": {},
   "outputs": [],
   "source": [
    "import matplotlib.pyplot as plt \n",
    "import numpy as np \n",
    "from keras.datasets import mnist\n",
    "from keras.models import Sequential \n",
    "from keras.layers import Dense, Flatten\n",
    "from keras.utils import to_categorical"
   ]
  },
  {
   "cell_type": "code",
   "execution_count": 2,
   "id": "709730c4",
   "metadata": {},
   "outputs": [
    {
     "data": {
      "text/plain": [
       "((array([[[0, 0, 0, ..., 0, 0, 0],\n",
       "          [0, 0, 0, ..., 0, 0, 0],\n",
       "          [0, 0, 0, ..., 0, 0, 0],\n",
       "          ...,\n",
       "          [0, 0, 0, ..., 0, 0, 0],\n",
       "          [0, 0, 0, ..., 0, 0, 0],\n",
       "          [0, 0, 0, ..., 0, 0, 0]],\n",
       "  \n",
       "         [[0, 0, 0, ..., 0, 0, 0],\n",
       "          [0, 0, 0, ..., 0, 0, 0],\n",
       "          [0, 0, 0, ..., 0, 0, 0],\n",
       "          ...,\n",
       "          [0, 0, 0, ..., 0, 0, 0],\n",
       "          [0, 0, 0, ..., 0, 0, 0],\n",
       "          [0, 0, 0, ..., 0, 0, 0]],\n",
       "  \n",
       "         [[0, 0, 0, ..., 0, 0, 0],\n",
       "          [0, 0, 0, ..., 0, 0, 0],\n",
       "          [0, 0, 0, ..., 0, 0, 0],\n",
       "          ...,\n",
       "          [0, 0, 0, ..., 0, 0, 0],\n",
       "          [0, 0, 0, ..., 0, 0, 0],\n",
       "          [0, 0, 0, ..., 0, 0, 0]],\n",
       "  \n",
       "         ...,\n",
       "  \n",
       "         [[0, 0, 0, ..., 0, 0, 0],\n",
       "          [0, 0, 0, ..., 0, 0, 0],\n",
       "          [0, 0, 0, ..., 0, 0, 0],\n",
       "          ...,\n",
       "          [0, 0, 0, ..., 0, 0, 0],\n",
       "          [0, 0, 0, ..., 0, 0, 0],\n",
       "          [0, 0, 0, ..., 0, 0, 0]],\n",
       "  \n",
       "         [[0, 0, 0, ..., 0, 0, 0],\n",
       "          [0, 0, 0, ..., 0, 0, 0],\n",
       "          [0, 0, 0, ..., 0, 0, 0],\n",
       "          ...,\n",
       "          [0, 0, 0, ..., 0, 0, 0],\n",
       "          [0, 0, 0, ..., 0, 0, 0],\n",
       "          [0, 0, 0, ..., 0, 0, 0]],\n",
       "  \n",
       "         [[0, 0, 0, ..., 0, 0, 0],\n",
       "          [0, 0, 0, ..., 0, 0, 0],\n",
       "          [0, 0, 0, ..., 0, 0, 0],\n",
       "          ...,\n",
       "          [0, 0, 0, ..., 0, 0, 0],\n",
       "          [0, 0, 0, ..., 0, 0, 0],\n",
       "          [0, 0, 0, ..., 0, 0, 0]]], dtype=uint8),\n",
       "  array([5, 0, 4, ..., 5, 6, 8], dtype=uint8)),\n",
       " (array([[[0, 0, 0, ..., 0, 0, 0],\n",
       "          [0, 0, 0, ..., 0, 0, 0],\n",
       "          [0, 0, 0, ..., 0, 0, 0],\n",
       "          ...,\n",
       "          [0, 0, 0, ..., 0, 0, 0],\n",
       "          [0, 0, 0, ..., 0, 0, 0],\n",
       "          [0, 0, 0, ..., 0, 0, 0]],\n",
       "  \n",
       "         [[0, 0, 0, ..., 0, 0, 0],\n",
       "          [0, 0, 0, ..., 0, 0, 0],\n",
       "          [0, 0, 0, ..., 0, 0, 0],\n",
       "          ...,\n",
       "          [0, 0, 0, ..., 0, 0, 0],\n",
       "          [0, 0, 0, ..., 0, 0, 0],\n",
       "          [0, 0, 0, ..., 0, 0, 0]],\n",
       "  \n",
       "         [[0, 0, 0, ..., 0, 0, 0],\n",
       "          [0, 0, 0, ..., 0, 0, 0],\n",
       "          [0, 0, 0, ..., 0, 0, 0],\n",
       "          ...,\n",
       "          [0, 0, 0, ..., 0, 0, 0],\n",
       "          [0, 0, 0, ..., 0, 0, 0],\n",
       "          [0, 0, 0, ..., 0, 0, 0]],\n",
       "  \n",
       "         ...,\n",
       "  \n",
       "         [[0, 0, 0, ..., 0, 0, 0],\n",
       "          [0, 0, 0, ..., 0, 0, 0],\n",
       "          [0, 0, 0, ..., 0, 0, 0],\n",
       "          ...,\n",
       "          [0, 0, 0, ..., 0, 0, 0],\n",
       "          [0, 0, 0, ..., 0, 0, 0],\n",
       "          [0, 0, 0, ..., 0, 0, 0]],\n",
       "  \n",
       "         [[0, 0, 0, ..., 0, 0, 0],\n",
       "          [0, 0, 0, ..., 0, 0, 0],\n",
       "          [0, 0, 0, ..., 0, 0, 0],\n",
       "          ...,\n",
       "          [0, 0, 0, ..., 0, 0, 0],\n",
       "          [0, 0, 0, ..., 0, 0, 0],\n",
       "          [0, 0, 0, ..., 0, 0, 0]],\n",
       "  \n",
       "         [[0, 0, 0, ..., 0, 0, 0],\n",
       "          [0, 0, 0, ..., 0, 0, 0],\n",
       "          [0, 0, 0, ..., 0, 0, 0],\n",
       "          ...,\n",
       "          [0, 0, 0, ..., 0, 0, 0],\n",
       "          [0, 0, 0, ..., 0, 0, 0],\n",
       "          [0, 0, 0, ..., 0, 0, 0]]], dtype=uint8),\n",
       "  array([7, 2, 1, ..., 4, 5, 6], dtype=uint8)))"
      ]
     },
     "execution_count": 2,
     "metadata": {},
     "output_type": "execute_result"
    }
   ],
   "source": [
    "mnist.load_data() #Contiene 1tuple y dentro de esta 2tuplas"
   ]
  },
  {
   "cell_type": "code",
   "execution_count": 3,
   "id": "24d1dfc3",
   "metadata": {},
   "outputs": [],
   "source": [
    "(imagenes_entrenamiento, etiquetas_entrenamiento),(imagenes_prueba, etiquetas_prueba) = mnist.load_data()"
   ]
  },
  {
   "cell_type": "markdown",
   "id": "ab3942d3",
   "metadata": {},
   "source": [
    "¿Qué se logra al normalizar las imágenes de entrada dividiendo sus valores por 255? \n",
    "\n",
    "La normalización de los valores de entrada a un rango de 0 a 1 es una práctica común en el aprendizaje profundo para mejorar la estabilidad y la eficiencia del entrenamiento."
   ]
  },
  {
   "cell_type": "code",
   "execution_count": 4,
   "id": "6c287b15",
   "metadata": {},
   "outputs": [],
   "source": [
    "#Normalizar valores\n",
    "imagenes_entrenamiento = imagenes_entrenamiento / 255.0 \n",
    "imagenes_prueba = imagenes_prueba / 255.0"
   ]
  },
  {
   "cell_type": "code",
   "execution_count": 5,
   "id": "896d46be",
   "metadata": {},
   "outputs": [
    {
     "data": {
      "text/plain": [
       "5"
      ]
     },
     "execution_count": 5,
     "metadata": {},
     "output_type": "execute_result"
    }
   ],
   "source": [
    "etiquetas_entrenamiento[0]"
   ]
  },
  {
   "cell_type": "code",
   "execution_count": 6,
   "id": "61e4d2d6",
   "metadata": {},
   "outputs": [],
   "source": [
    "etiquetas_entrenamiento = to_categorical(etiquetas_entrenamiento)\n",
    "etiquetas_prueba = to_categorical(etiquetas_prueba)"
   ]
  },
  {
   "cell_type": "code",
   "execution_count": 7,
   "id": "36e76a96",
   "metadata": {},
   "outputs": [
    {
     "data": {
      "text/plain": [
       "array([0., 0., 0., 0., 0., 1., 0., 0., 0., 0.])"
      ]
     },
     "execution_count": 7,
     "metadata": {},
     "output_type": "execute_result"
    }
   ],
   "source": [
    "etiquetas_entrenamiento[0]"
   ]
  },
  {
   "cell_type": "markdown",
   "id": "70737924",
   "metadata": {},
   "source": [
    "La capa Flatten transforma las imágenes de 28x28 píxeles en un vector de 784 píxeles para que las capas densas posteriores puedan procesar los datos correctamente.\n",
    "\n",
    "La función de activación softmax se utiliza en la capa de salida para obtener probabilidades para cada clase en problemas de clasificación multiclase.\n",
    "\n",
    "\n",
    "\n"
   ]
  },
  {
   "cell_type": "code",
   "execution_count": 8,
   "id": "de85d78f",
   "metadata": {},
   "outputs": [
    {
     "name": "stderr",
     "output_type": "stream",
     "text": [
      "/Users/leidygarciaguzman/anaconda3/lib/python3.11/site-packages/keras/src/layers/reshaping/flatten.py:37: UserWarning: Do not pass an `input_shape`/`input_dim` argument to a layer. When using Sequential models, prefer using an `Input(shape)` object as the first layer in the model instead.\n",
      "  super().__init__(**kwargs)\n"
     ]
    }
   ],
   "source": [
    "modelo = Sequential([\n",
    "    Flatten(input_shape=(28,28)),\n",
    "    Dense(128, activation='relu'),\n",
    "    Dense(10, activation='softmax')\n",
    "])"
   ]
  },
  {
   "cell_type": "markdown",
   "id": "a629e9cf",
   "metadata": {},
   "source": [
    "¿Cuál es la función del optimizador en el entrenamiento del modelo?\n",
    "\n",
    "El optimizador guía el entrenamiento ajustando los pesos del modelo para minimizar la función de pérdida, mejorando así la precisión del modelo a lo largo del tiempo."
   ]
  },
  {
   "cell_type": "code",
   "execution_count": 9,
   "id": "8efb3b2f",
   "metadata": {},
   "outputs": [],
   "source": [
    "#Compilar el modelo \n",
    "modelo.compile(optimizer ='adam', \n",
    "              loss='categorical_crossentropy',\n",
    "              metrics=['accuracy'])"
   ]
  },
  {
   "cell_type": "markdown",
   "id": "f0b4214c",
   "metadata": {},
   "source": [
    "¿Cuál es la función principal del modelo?\n",
    "\n",
    "El modelo ha sido entrenado para recibir una nueva imagen y predecir qué número está representado en ella."
   ]
  },
  {
   "cell_type": "code",
   "execution_count": 10,
   "id": "261968af",
   "metadata": {},
   "outputs": [
    {
     "name": "stdout",
     "output_type": "stream",
     "text": [
      "Epoch 1/5\n",
      "\u001b[1m1875/1875\u001b[0m \u001b[32m━━━━━━━━━━━━━━━━━━━━\u001b[0m\u001b[37m\u001b[0m \u001b[1m2s\u001b[0m 817us/step - accuracy: 0.8804 - loss: 0.4255 - val_accuracy: 0.9600 - val_loss: 0.1363\n",
      "Epoch 2/5\n",
      "\u001b[1m1875/1875\u001b[0m \u001b[32m━━━━━━━━━━━━━━━━━━━━\u001b[0m\u001b[37m\u001b[0m \u001b[1m2s\u001b[0m 830us/step - accuracy: 0.9656 - loss: 0.1170 - val_accuracy: 0.9686 - val_loss: 0.0982\n",
      "Epoch 3/5\n",
      "\u001b[1m1875/1875\u001b[0m \u001b[32m━━━━━━━━━━━━━━━━━━━━\u001b[0m\u001b[37m\u001b[0m \u001b[1m1s\u001b[0m 767us/step - accuracy: 0.9769 - loss: 0.0790 - val_accuracy: 0.9731 - val_loss: 0.0885\n",
      "Epoch 4/5\n",
      "\u001b[1m1875/1875\u001b[0m \u001b[32m━━━━━━━━━━━━━━━━━━━━\u001b[0m\u001b[37m\u001b[0m \u001b[1m1s\u001b[0m 734us/step - accuracy: 0.9834 - loss: 0.0560 - val_accuracy: 0.9761 - val_loss: 0.0774\n",
      "Epoch 5/5\n",
      "\u001b[1m1875/1875\u001b[0m \u001b[32m━━━━━━━━━━━━━━━━━━━━\u001b[0m\u001b[37m\u001b[0m \u001b[1m1s\u001b[0m 732us/step - accuracy: 0.9883 - loss: 0.0390 - val_accuracy: 0.9767 - val_loss: 0.0795\n"
     ]
    },
    {
     "data": {
      "text/plain": [
       "<keras.src.callbacks.history.History at 0x15700e5d0>"
      ]
     },
     "execution_count": 10,
     "metadata": {},
     "output_type": "execute_result"
    }
   ],
   "source": [
    "modelo.fit(imagenes_entrenamiento,\n",
    "          etiquetas_entrenamiento,\n",
    "          epochs=5,\n",
    "          validation_data=(imagenes_prueba, etiquetas_prueba))"
   ]
  },
  {
   "cell_type": "code",
   "execution_count": 11,
   "id": "e1164cbe",
   "metadata": {},
   "outputs": [
    {
     "name": "stdout",
     "output_type": "stream",
     "text": [
      "\u001b[1m313/313\u001b[0m \u001b[32m━━━━━━━━━━━━━━━━━━━━\u001b[0m\u001b[37m\u001b[0m \u001b[1m0s\u001b[0m 321us/step\n"
     ]
    }
   ],
   "source": [
    "#Predicciones del conjunto de prueba\n",
    "predicciones = modelo.predict(imagenes_prueba)"
   ]
  },
  {
   "cell_type": "markdown",
   "id": "09e4d6bc",
   "metadata": {},
   "source": [
    "¿Qué hace la función ver imagen? \n",
    "\n",
    "La función ver_imagen está diseñada para mostrar una imagen junto con la etiqueta que el modelo ha predicho y la etiqueta real.\n",
    "\n",
    "Si la etiqueta predicha es igual a la etiqueta real, el color del texto de la etiqueta es azul.\n",
    "\n",
    "argmax() es una función que devuelve el índice del valor máximo en un array, usado aquí para obtener la etiqueta predicha."
   ]
  },
  {
   "cell_type": "code",
   "execution_count": 12,
   "id": "b0688d48",
   "metadata": {},
   "outputs": [],
   "source": [
    "def ver_imagen(array_predicciones, etiqueta_real, img):\n",
    "    etiqueta_real, img = etiqueta_real.argmax(), img.squeeze()\n",
    "    plt.grid(False)\n",
    "    plt.xticks([])\n",
    "    plt.yticks([])\n",
    "    \n",
    "    plt.imshow(img, cmap=plt.cm.binary)\n",
    "    \n",
    "    etiqueta_predicha = np.argmax(array_predicciones)\n",
    "    if etiqueta_predicha == etiqueta_real:\n",
    "        color = 'blue'\n",
    "    else:\n",
    "        color = 'red'\n",
    "    \n",
    "    plt.xlabel(f'Pred: {etiqueta_predicha} Real: {etiqueta_real}', color=color)"
   ]
  },
  {
   "cell_type": "code",
   "execution_count": 13,
   "id": "c7572d8e",
   "metadata": {},
   "outputs": [
    {
     "data": {
      "image/png": "[encoded data removed]",
      "text/plain": [
       "<Figure size 1200x1000 with 15 Axes>"
      ]
     },
     "metadata": {},
     "output_type": "display_data"
    }
   ],
   "source": [
    "filas = 5\n",
    "columnas = 3 \n",
    "numero_imagenes = filas * columnas \n",
    "plt.figure(figsize=(2*2*columnas, 2*filas))\n",
    "\n",
    "for i in range(numero_imagenes):\n",
    "    plt.subplot(filas, 2*columnas, 2*i+1)\n",
    "    ver_imagen(predicciones[i], etiquetas_prueba[i], imagenes_prueba[i]);"
   ]
  },
  {
   "cell_type": "code",
   "execution_count": null,
   "id": "381b6aac",
   "metadata": {},
   "outputs": [],
   "source": []
  }
 ],
 "metadata": {
  "kernelspec": {
   "display_name": "Python 3 (ipykernel)",
   "language": "python",
   "name": "python3"
  },
  "language_info": {
   "codemirror_mode": {
    "name": "ipython",
    "version": 3
   },
   "file_extension": ".py",
   "mimetype": "text/x-python",
   "name": "python",
   "nbconvert_exporter": "python",
   "pygments_lexer": "ipython3",
   "version": "3.11.4"
  }
 },
 "nbformat": 4,
 "nbformat_minor": 5
}
